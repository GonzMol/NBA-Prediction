{
 "cells": [
  {
   "cell_type": "code",
   "execution_count": 1,
   "id": "0d1f6c9d-0ea7-4165-8881-67fcf4ad44a5",
   "metadata": {},
   "outputs": [],
   "source": [
    "import requests\n",
    "import json\n",
    "from dateutil import parser\n",
    "import pandas as pd\n",
    "import time\n",
    "import math\n",
    "import matplotlib.pyplot as plt\n",
    "import pickle\n",
    "import seaborn as sb\n",
    "import numpy as np\n",
    "API_KEY = 'e22c0224c5f98375d85a94c35b0f1e05'\n",
    "API_KEY = 'eb749887d82b13b877b1d6ec66a76e62'"
   ]
  },
  {
   "cell_type": "code",
   "execution_count": 2,
   "id": "ec2edc6d-dc49-4ff9-b8ce-57e5480044de",
   "metadata": {},
   "outputs": [],
   "source": [
    "# # # # # # # # # # # # # # # # # # # # # # # # # # # # # # # # # # # # \n",
    "#\n",
    "# First get a list of in-season sports\n",
    "#   The sport 'key' from the response can be used to get odds in the next request\n",
    "#\n",
    "# # # # # # # # # # # # # # # # # # # # # # # # # # # # # # # # # # # # \n",
    "\n",
    "sports_response = requests.get(\n",
    "    'https://api.the-odds-api.com/v4/sports', \n",
    "    params={\n",
    "        'api_key': API_KEY\n",
    "    }\n",
    ")"
   ]
  },
  {
   "cell_type": "code",
   "execution_count": 3,
   "id": "c9ad2c1e-57a2-455c-808d-be17f40cfd8d",
   "metadata": {},
   "outputs": [],
   "source": [
    "sportList = list()\n",
    "for sport in sports_response.json():\n",
    "    sportList.append(sport['key'])"
   ]
  },
  {
   "cell_type": "code",
   "execution_count": 4,
   "id": "f7794df2-21ea-41f5-b629-14c3d5ac8096",
   "metadata": {},
   "outputs": [
    {
     "name": "stdout",
     "output_type": "stream",
     "text": [
      "['americanfootball_nfl_super_bowl_winner', 'aussierules_afl', 'baseball_mlb_world_series_winner', 'basketball_euroleague', 'basketball_nba_championship_winner', 'basketball_ncaab', 'cricket_psl', 'cricket_test_match', 'golf_masters_tournament_winner', 'golf_pga_championship_winner', 'golf_the_open_championship_winner', 'golf_us_open_winner', 'icehockey_nhl', 'icehockey_nhl_championship_winner', 'icehockey_sweden_allsvenskan', 'icehockey_sweden_hockey_league', 'mma_mixed_martial_arts', 'rugbyleague_nrl', 'soccer_argentina_primera_division', 'soccer_australia_aleague', 'soccer_austria_bundesliga', 'soccer_belgium_first_div', 'soccer_chile_campeonato', 'soccer_conmebol_copa_libertadores', 'soccer_denmark_superliga', 'soccer_efl_champ', 'soccer_england_efl_cup', 'soccer_england_league1', 'soccer_england_league2', 'soccer_epl', 'soccer_fa_cup', 'soccer_france_ligue_one', 'soccer_france_ligue_two', 'soccer_germany_bundesliga', 'soccer_germany_bundesliga2', 'soccer_germany_liga3', 'soccer_greece_super_league', 'soccer_italy_serie_a', 'soccer_italy_serie_b', 'soccer_japan_j_league', 'soccer_korea_kleague1', 'soccer_league_of_ireland', 'soccer_mexico_ligamx', 'soccer_netherlands_eredivisie', 'soccer_norway_eliteserien', 'soccer_poland_ekstraklasa', 'soccer_portugal_primeira_liga', 'soccer_spain_la_liga', 'soccer_spain_segunda_division', 'soccer_spl', 'soccer_sweden_allsvenskan', 'soccer_sweden_superettan', 'soccer_switzerland_superleague', 'soccer_turkey_super_league', 'soccer_uefa_champs_league', 'soccer_uefa_europa_conference_league', 'soccer_uefa_europa_league', 'soccer_uefa_nations_league', 'soccer_usa_mls']\n"
     ]
    }
   ],
   "source": [
    "print(sportList)"
   ]
  },
  {
   "cell_type": "code",
   "execution_count": 5,
   "id": "d9a3fd5d-1232-4bbb-811a-6cbab69f421e",
   "metadata": {},
   "outputs": [
    {
     "name": "stdout",
     "output_type": "stream",
     "text": [
      "basketball_nba\n"
     ]
    }
   ],
   "source": [
    "SPORT = 'icehockey_nhl' # use the sport_key from the /sports endpoint below, or use 'upcoming' to see the next 8 games across all sports\n",
    "\n",
    "# sportList = ['basketball_nba']\n",
    "\n",
    "# sportList = ['basketball_nba']\n",
    "for sport in sportList:\n",
    "    print(sport)\n",
    "    # if ('winner' in sport.lower()) or ('icehockey_sweden' in sport.lower()) or ('aussierules' in sport.lower()) or ('cricket' in sport.lower()) or ('mma_mixed' in sport.lower()):\n",
    "    #     pass\n",
    "    if ('winner' in sport.lower()):\n",
    "        print('skip')\n",
    "        pass\n",
    "    else:\n",
    "        \n",
    "        \n",
    "        REGIONS = 'au' # uk | us | eu | au. Multiple can be specified if comma delimited\n",
    "\n",
    "        MARKETS = 'h2h' # h2h | spreads | totals. Multiple can be specified if comma delimited\n",
    "\n",
    "        ODDS_FORMAT = 'decimal' # decimal | american\n",
    "\n",
    "        DATE_FORMAT = 'iso' # iso | unix\n",
    "\n",
    "\n",
    "        odds_response = requests.get(\n",
    "            f'https://api.the-odds-api.com/v4/sports/{sport}/odds',\n",
    "            params={\n",
    "                'api_key': API_KEY,\n",
    "                'regions': REGIONS,\n",
    "                'markets': MARKETS,\n",
    "                'oddsFormat': ODDS_FORMAT,\n",
    "                'dateFormat': DATE_FORMAT,\n",
    "            }\n",
    "        )\n",
    "\n",
    "        odds_json = odds_response.json()\n",
    "\n",
    "        for gameIndex in range(len(odds_json)):\n",
    "            index_zero = list()\n",
    "            index_one = list()\n",
    "            index_two = list()\n",
    "            for book in odds_json[gameIndex]['bookmakers']:\n",
    "                if book['title'] != 'Betfair':\n",
    "                    if len(book['markets'][0]['outcomes']) == 2:\n",
    "                        index_zero.append(book['markets'][0]['outcomes'][0]['price'])\n",
    "                        index_one.append(book['markets'][0]['outcomes'][1]['price'])\n",
    "                    if len(book['markets'][0]['outcomes']) == 3:\n",
    "                        index_zero.append(book['markets'][0]['outcomes'][0]['price'])\n",
    "                        index_one.append(book['markets'][0]['outcomes'][1]['price'])\n",
    "                        index_two.append(book['markets'][0]['outcomes'][2]['price'])\n",
    "            \n",
    "            if not index_zero:\n",
    "                break\n",
    "                \n",
    "            if len(book['markets'][0]['outcomes']) == 2:\n",
    "                outcome = (1/max(index_zero)) + 1/max(index_one)\n",
    "            # if len(book['markets'][0]['outcomes']) == 3:\n",
    "            #     outcome = (1/max(index_zero)) + 1/max(index_one) + 1/max(index_two)\n",
    "            if outcome < 1:\n",
    "                print(outcome)\n",
    "                for book in odds_json[gameIndex]['bookmakers']:\n",
    "                    if book['title'] != 'Betfair':\n",
    "                        print(book['title'] + ': ')\n",
    "                        print(book['markets'][0])       \n",
    "            print()\n",
    "    time.sleep(2)"
   ]
  },
  {
   "cell_type": "code",
   "execution_count": 6,
   "id": "a86632ad-af0e-410d-8aeb-08c836723f40",
   "metadata": {},
   "outputs": [
    {
     "name": "stdout",
     "output_type": "stream",
     "text": [
      "Remaining requests 344\n",
      "Used requests 156\n"
     ]
    }
   ],
   "source": [
    "print('Remaining requests', odds_response.headers['x-requests-remaining'])\n",
    "print('Used requests', odds_response.headers['x-requests-used'])"
   ]
  },
  {
   "cell_type": "code",
   "execution_count": null,
   "id": "7878a165-29d1-4475-8c25-ee29070d4b34",
   "metadata": {},
   "outputs": [],
   "source": []
  },
  {
   "cell_type": "code",
   "execution_count": 7,
   "id": "34cec388-9b3d-4905-9070-48af14f17fa8",
   "metadata": {},
   "outputs": [
    {
     "name": "stdout",
     "output_type": "stream",
     "text": [
      "basketball_nba\n"
     ]
    }
   ],
   "source": [
    "sportList = ['basketball_nba']\n",
    "\n",
    "# sportList = ['basketball_nba']\n",
    "for sport in sportList:\n",
    "    print(sport)\n",
    "    # if ('winner' in sport.lower()) or ('icehockey_sweden' in sport.lower()) or ('aussierules' in sport.lower()) or ('cricket' in sport.lower()) or ('mma_mixed' in sport.lower()):\n",
    "    #     pass\n",
    "    if ('winner' in sport.lower()):\n",
    "        print('skip')\n",
    "        pass\n",
    "    else:\n",
    "        \n",
    "        \n",
    "        REGIONS = 'au' # uk | us | eu | au. Multiple can be specified if comma delimited\n",
    "\n",
    "        MARKETS = 'h2h' # h2h | spreads | totals. Multiple can be specified if comma delimited\n",
    "\n",
    "        ODDS_FORMAT = 'decimal' # decimal | american\n",
    "\n",
    "        DATE_FORMAT = 'iso' # iso | unix\n",
    "\n",
    "\n",
    "        odds_response = requests.get(\n",
    "            f'https://api.the-odds-api.com/v4/sports/{sport}/odds',\n",
    "            params={\n",
    "                'api_key': API_KEY,\n",
    "                'regions': REGIONS,\n",
    "                'markets': MARKETS,\n",
    "                'oddsFormat': ODDS_FORMAT,\n",
    "                'dateFormat': DATE_FORMAT,\n",
    "            }\n",
    "        )\n",
    "\n",
    "        odds_json = odds_response.json()\n",
    "\n",
    "                \n",
    "        for gameIndex in range(len(odds_json)):\n",
    "            index_zero = list()\n",
    "            index_one = list()\n",
    "            index_two = list()\n",
    "            for book in odds_json[gameIndex]['bookmakers']:\n",
    "                if book['title'] != 'Betfair':\n",
    "                    if len(book['markets'][0]['outcomes']) == 2:\n",
    "                        index_zero.append(book['markets'][0]['outcomes'][0]['price'])\n",
    "                        index_one.append(book['markets'][0]['outcomes'][1]['price'])\n",
    "                    if len(book['markets'][0]['outcomes']) == 3:\n",
    "                        index_zero.append(book['markets'][0]['outcomes'][0]['price'])\n",
    "                        index_one.append(book['markets'][0]['outcomes'][1]['price'])\n",
    "                        index_two.append(book['markets'][0]['outcomes'][2]['price'])\n",
    "            \n",
    "            if not index_zero:\n",
    "                break\n",
    "                \n",
    "            if len(book['markets'][0]['outcomes']) == 2:\n",
    "                outcome = (1/max(index_zero)) + 1/max(index_one)\n",
    "            # if len(book['markets'][0]['outcomes']) == 3:\n",
    "            #     outcome = (1/max(index_zero)) + 1/max(index_one) + 1/max(index_two)\n",
    "            if outcome < 1:\n",
    "                print(outcome)\n",
    "                for book in odds_json[gameIndex]['bookmakers']:\n",
    "                    if book['title'] != 'Betfair':\n",
    "                        print(book['title'] + ': ')\n",
    "                        print(book['markets'][0])       \n",
    "            print()\n",
    "    time.sleep(2)"
   ]
  },
  {
   "cell_type": "code",
   "execution_count": null,
   "id": "e1048d8b-90ee-4d8b-83dc-59ac93931ffc",
   "metadata": {},
   "outputs": [],
   "source": []
  },
  {
   "cell_type": "code",
   "execution_count": null,
   "id": "7681405e-4086-45da-bb4a-b6691917a92e",
   "metadata": {},
   "outputs": [],
   "source": []
  },
  {
   "cell_type": "code",
   "execution_count": null,
   "id": "894e71a9-95e0-4dfb-9714-8807efbc5fba",
   "metadata": {},
   "outputs": [],
   "source": []
  },
  {
   "cell_type": "code",
   "execution_count": null,
   "id": "9226ff22-c4f2-4af8-ac02-f09d8f2f3d42",
   "metadata": {},
   "outputs": [],
   "source": []
  },
  {
   "cell_type": "code",
   "execution_count": null,
   "id": "a1cd45a7-606d-441b-8a2a-798fd54550c3",
   "metadata": {},
   "outputs": [],
   "source": []
  },
  {
   "cell_type": "code",
   "execution_count": null,
   "id": "b1e3c041-dcdd-4c3c-88d8-8e154f683635",
   "metadata": {},
   "outputs": [],
   "source": []
  },
  {
   "cell_type": "code",
   "execution_count": null,
   "id": "b2d044d0-c92b-4e38-b520-981b67c87dd0",
   "metadata": {},
   "outputs": [],
   "source": []
  },
  {
   "cell_type": "code",
   "execution_count": null,
   "id": "5a160f2b-c8aa-40d4-86a3-016b1730a2b7",
   "metadata": {},
   "outputs": [],
   "source": []
  },
  {
   "cell_type": "code",
   "execution_count": null,
   "id": "27ea36f0-796d-4fa4-bba1-cd4f73baac7e",
   "metadata": {},
   "outputs": [],
   "source": []
  },
  {
   "cell_type": "code",
   "execution_count": null,
   "id": "ef400c40-111d-4254-81ac-6c524a3e18e1",
   "metadata": {},
   "outputs": [],
   "source": []
  },
  {
   "cell_type": "code",
   "execution_count": null,
   "id": "de03bae3-20e7-4366-ad5d-7c827d191a2b",
   "metadata": {},
   "outputs": [],
   "source": []
  },
  {
   "cell_type": "code",
   "execution_count": null,
   "id": "25a8d7d8-d4b7-4398-a77c-4731f353b80c",
   "metadata": {},
   "outputs": [],
   "source": []
  },
  {
   "cell_type": "code",
   "execution_count": null,
   "id": "bdd574f7-32b5-461a-8d43-85dd1e8667e9",
   "metadata": {},
   "outputs": [],
   "source": []
  },
  {
   "cell_type": "code",
   "execution_count": null,
   "id": "052685bc-febf-4401-ada7-fbf263fbfc2c",
   "metadata": {},
   "outputs": [],
   "source": []
  },
  {
   "cell_type": "code",
   "execution_count": null,
   "id": "082a8a64-3fa6-4d5d-923d-ace696a48d59",
   "metadata": {},
   "outputs": [],
   "source": []
  },
  {
   "cell_type": "code",
   "execution_count": null,
   "id": "c9f2de3e-9fbc-46b3-9b8c-3ac2514327d5",
   "metadata": {},
   "outputs": [],
   "source": []
  }
 ],
 "metadata": {
  "kernelspec": {
   "display_name": "Python 3 (ipykernel)",
   "language": "python",
   "name": "python3"
  },
  "language_info": {
   "codemirror_mode": {
    "name": "ipython",
    "version": 3
   },
   "file_extension": ".py",
   "mimetype": "text/x-python",
   "name": "python",
   "nbconvert_exporter": "python",
   "pygments_lexer": "ipython3",
   "version": "3.9.12"
  }
 },
 "nbformat": 4,
 "nbformat_minor": 5
}
